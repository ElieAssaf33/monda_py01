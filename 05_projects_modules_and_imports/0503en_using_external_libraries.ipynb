{
 "cells": [
  {
   "cell_type": "markdown",
   "metadata": {},
   "source": [
    "# Using External Libraries\n",
    "\n",
    "Python programming language has many external libraries that you can use in your projects to avoid duplicating code and benefit from the work of other developers. \n",
    "These libraries are often distributed through the Python Package Index (PyPI) and can be installed using pip - the Python package manager."
   ]
  },
  {
   "cell_type": "markdown",
   "metadata": {},
   "source": [
    "## pip install, pip list\n",
    "\n",
    "The main pip commands are:\n",
    "\n",
    "`pip install <package_name>`: Installs a package from PyPI."
   ]
  },
  {
   "cell_type": "code",
   "execution_count": null,
   "metadata": {},
   "outputs": [],
   "source": [
    "pip install requests"
   ]
  },
  {
   "cell_type": "markdown",
   "metadata": {},
   "source": [
    "`pip list`: Displays all installed packages and their versions."
   ]
  },
  {
   "cell_type": "code",
   "execution_count": null,
   "metadata": {},
   "outputs": [],
   "source": [
    "pip list"
   ]
  },
  {
   "cell_type": "markdown",
   "metadata": {},
   "source": [
    "## How to use `requirements.txt` and `pip freeze`"
   ]
  },
  {
   "cell_type": "markdown",
   "metadata": {},
   "source": [
    "Create a virtual environment and activate it (if you haven't already):"
   ]
  },
  {
   "cell_type": "code",
   "execution_count": null,
   "metadata": {},
   "outputs": [],
   "source": [
    "python -m venv venv\n",
    "source venv/bin/activate  # Linux/MacOS\n",
    "venv\\Scripts\\activate     # Windows"
   ]
  },
  {
   "cell_type": "markdown",
   "metadata": {},
   "source": [
    "Install the necessary external libraries using:"
   ]
  },
  {
   "cell_type": "code",
   "execution_count": null,
   "metadata": {},
   "outputs": [],
   "source": [
    "pip install <package_name>"
   ]
  },
  {
   "cell_type": "markdown",
   "metadata": {},
   "source": [
    "After you've installed all the required libraries, \n",
    "\n",
    "use the command `pip freeze > requirements.txt` to generate a `requirements.txt` file with all the installed libraries and their versions:"
   ]
  },
  {
   "cell_type": "code",
   "execution_count": null,
   "metadata": {},
   "outputs": [],
   "source": [
    "pip freeze > requirements.txt"
   ]
  },
  {
   "cell_type": "markdown",
   "metadata": {},
   "source": [
    "Include the `requirements.txt` file in your project repository to make it easier for other developers or computers to install all the required dependencies.\n",
    "\n",
    "### Why is a virtual environment needed for each project?\n",
    "\n",
    "- Virtual environments are isolated Python environments that allow you to manage each project's dependencies separately. \n",
    "\n",
    "Virtual environments are useful for the following reasons:\n",
    "\n",
    "- `Isolation`: Each project can have its own library versions without conflicts with other projects.\n",
    "- `Order`: Virtual environments help maintain system cleanliness because libraries are not installed globally.\n",
    "- `Portability`: Using virtual environments makes it easy to transfer a project between different computers, as dependencies are clearly defined."
   ]
  }
 ],
 "metadata": {
  "kernelspec": {
   "display_name": "venv",
   "language": "python",
   "name": "python3"
  },
  "language_info": {
   "name": "python",
   "version": "3.11.1 (v3.11.1:a7a450f84a, Dec  6 2022, 15:24:06) [Clang 13.0.0 (clang-1300.0.29.30)]"
  },
  "vscode": {
   "interpreter": {
    "hash": "aef24730a188ba18a432d33d1839ad14080108b3a538bfc504140e2f933b7018"
   }
  }
 },
 "nbformat": 4,
 "nbformat_minor": 2
}
