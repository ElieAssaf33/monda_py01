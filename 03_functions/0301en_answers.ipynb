{
 "cells": [
  {
   "cell_type": "markdown",
   "metadata": {},
   "source": [
    "# `Quick assignment 1: Function Definition Structure`"
   ]
  },
  {
   "cell_type": "code",
   "execution_count": null,
   "metadata": {},
   "outputs": [],
   "source": [
    "# Function Definition\n",
    "def calculate_area(length, width):\n",
    "    \"\"\"This function calculates the area of a rectangle.\"\"\"\n",
    "    area = length * width\n",
    "    print(f\"Area of the rectangle: {area} square units\")\n",
    "\n",
    "# Example Usage\n",
    "calculate_area(5, 8)"
   ]
  },
  {
   "cell_type": "markdown",
   "metadata": {},
   "source": [
    "# `Quick Assignment 2: Check if Positive`"
   ]
  },
  {
   "cell_type": "code",
   "execution_count": 1,
   "metadata": {},
   "outputs": [
    {
     "name": "stdout",
     "output_type": "stream",
     "text": [
      "4 is not a number\n",
      "777 is positive.\n",
      "-42 is not positive.\n"
     ]
    }
   ],
   "source": [
    "def is_positive(number):\n",
    "    if type(number) == int or type(number) == float:\n",
    "        if number > 0:\n",
    "            print(number, \"is positive.\")\n",
    "        else:\n",
    "            print(number, \"is not positive.\")\n",
    "    else:\n",
    "        print(number, \"is not a number\")\n",
    "\n",
    "is_positive('4')\n",
    "is_positive(777)\n",
    "is_positive(-42)"
   ]
  },
  {
   "cell_type": "markdown",
   "metadata": {},
   "source": [
    "# `Quick Assignment 3: Check if Greater Than`"
   ]
  },
  {
   "cell_type": "code",
   "execution_count": null,
   "metadata": {},
   "outputs": [],
   "source": [
    "def is_greater_than(number, limit):\n",
    "    if number > limit:\n",
    "        print(number, \"is greater than\", limit)\n",
    "    elif number == limit:\n",
    "        print(number, \"equals\", limit)\n",
    "    else:\n",
    "        print(number, \"is not greater than\", limit)\n",
    "\n",
    "is_greater_than(10, 10)\n",
    "is_greater_than(42, 10)\n",
    "is_greater_than(7, 10)"
   ]
  }
 ],
 "metadata": {
  "kernelspec": {
   "display_name": "venv",
   "language": "python",
   "name": "python3"
  },
  "language_info": {
   "codemirror_mode": {
    "name": "ipython",
    "version": 3
   },
   "file_extension": ".py",
   "mimetype": "text/x-python",
   "name": "python",
   "nbconvert_exporter": "python",
   "pygments_lexer": "ipython3",
   "version": "3.11.1"
  },
  "orig_nbformat": 4,
  "vscode": {
   "interpreter": {
    "hash": "7c75133df330562049dcdd5095eb8eaba3a3b52e33043f41ecc3f403062d1563"
   }
  }
 },
 "nbformat": 4,
 "nbformat_minor": 2
}
