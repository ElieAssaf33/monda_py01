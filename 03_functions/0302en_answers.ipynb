{
 "cells": [
  {
   "cell_type": "markdown",
   "metadata": {},
   "source": [
    "# `Quick Assignment 1`"
   ]
  },
  {
   "cell_type": "code",
   "execution_count": null,
   "metadata": {},
   "outputs": [],
   "source": [
    "# Function definition\n",
    "def raised(number, degree):\n",
    "    return number ** degree\n",
    "\n",
    "# Call the function and print the result\n",
    "print(raised(5, 3))  # Expected output: 125"
   ]
  },
  {
   "cell_type": "markdown",
   "metadata": {},
   "source": [
    "# ` Quick Assignment 2`"
   ]
  },
  {
   "cell_type": "code",
   "execution_count": null,
   "metadata": {},
   "outputs": [],
   "source": [
    "# Function definition\n",
    "def add_sub_multi(a, b):\n",
    "    return (a + b, a - b, a * b)\n",
    "\n",
    "# Call the function and display the result\n",
    "result = add_sub_multi(10, 2)\n",
    "print(result)  # Expected output: (12, 8, 20)"
   ]
  },
  {
   "cell_type": "markdown",
   "metadata": {},
   "source": [
    "# `Bonus Assignment: Calculate Factorial`"
   ]
  },
  {
   "cell_type": "code",
   "execution_count": null,
   "metadata": {},
   "outputs": [],
   "source": [
    "# Function definition\n",
    "def calculate_factorial(n):\n",
    "    if n == 0:\n",
    "        return 1\n",
    "    else:\n",
    "        factorial = 1\n",
    "        for i in range(1, n + 1):\n",
    "            factorial *= i\n",
    "        return factorial\n",
    "\n",
    "# Call the function and print factorials\n",
    "print(\"Factorial of 0:\", calculate_factorial(0))  # Expected output: 1\n",
    "print(\"Factorial of 1:\", calculate_factorial(1))  # Expected output: 1\n",
    "print(\"Factorial of 2:\", calculate_factorial(2))  # Expected output: 2\n",
    "print(\"Factorial of 3:\", calculate_factorial(3))  # Expected output: 6\n",
    "print(\"Factorial of 4:\", calculate_factorial(4))  # Expected output: 24\n",
    "print(\"Factorial of 5:\", calculate_factorial(5))  # Expected output: 120"
   ]
  }
 ],
 "metadata": {
  "kernelspec": {
   "display_name": "venv",
   "language": "python",
   "name": "python3"
  },
  "language_info": {
   "codemirror_mode": {
    "name": "ipython",
    "version": 3
   },
   "file_extension": ".py",
   "mimetype": "text/x-python",
   "name": "python",
   "nbconvert_exporter": "python",
   "pygments_lexer": "ipython3",
<<<<<<< HEAD
   "version": "3.11.1 (v3.11.1:a7a450f84a, Dec  6 2022, 15:24:06) [Clang 13.0.0 (clang-1300.0.29.30)]"
=======
   "version": "3.11.7"
>>>>>>> origin/main
  },
  "orig_nbformat": 4,
  "vscode": {
   "interpreter": {
    "hash": "7c75133df330562049dcdd5095eb8eaba3a3b52e33043f41ecc3f403062d1563"
   }
  }
 },
 "nbformat": 4,
 "nbformat_minor": 2
}
